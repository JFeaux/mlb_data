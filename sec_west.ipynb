{
 "metadata": {
  "name": "",
  "signature": "sha256:abd3ad6cdd9ec82054aac2c7cc58191da9cd3bd611ae5d694afcf016896b725d"
 },
 "nbformat": 3,
 "nbformat_minor": 0,
 "worksheets": [
  {
   "cells": [
    {
     "cell_type": "code",
     "collapsed": false,
     "input": [
      "%matplotlib inline\n",
      "import pandas as pd\n",
      "import numpy as np\n",
      "import matplotlib.pyplot as plt\n",
      "import sqlalchemy as sql"
     ],
     "language": "python",
     "metadata": {},
     "outputs": [],
     "prompt_number": 1
    },
    {
     "cell_type": "code",
     "collapsed": false,
     "input": [
      "# Connect to MLB Database\n",
      "path = ('mysql+mysqlconnector://jacob:letmein3'\n",
      "        '@localhost/lahman2016')\n",
      "engine = sql.create_engine(path)\n",
      "cnx = engine.connect()"
     ],
     "language": "python",
     "metadata": {},
     "outputs": [],
     "prompt_number": 2
    },
    {
     "cell_type": "code",
     "collapsed": false,
     "input": [
      "# Analysis of SEC West players in MLB\n",
      "sec_west = ['alabama', \n",
      "            'auburn',\n",
      "            'arkansas',\n",
      "            'lsu',\n",
      "            'missst',\n",
      "            'olemiss',\n",
      "            'texasam']\n",
      "\n",
      "# Sub querry for obtaining players from SEC West\n",
      "sub = ('SELECT DISTINCT playerID, schoolID FROM CollegePlaying \\n' \n",
      "       'WHERE CollegePlaying.schoolID = ')\n",
      "for i, team in enumerate(sec_west):\n",
      "    if i == 0:\n",
      "        sub += '\"{}\" \\n'.format(team)\n",
      "    else:\n",
      "        sub += 'OR CollegePlaying.schoolID = \"{}\" \\n'.format(team)\n",
      "\n",
      "# Join Batting / pitching with SEC West\n",
      "cmd_bat = ('SELECT Batting.*, sub.schoolID FROM Batting \\n'\n",
      "      + 'INNER JOIN ({}) sub \\n'.format(sub)\n",
      "      + 'ON Batting.playerID = sub.playerID')\n",
      "cmd_pitch = ('SELECT Pitching.*, sub.schoolID FROM Pitching \\n'\n",
      "      + 'INNER JOIN ({}) sub \\n'.format(sub)\n",
      "      + 'ON Pitching.playerID = sub.playerID')\n",
      "print cmd_bat\n"
     ],
     "language": "python",
     "metadata": {},
     "outputs": [
      {
       "output_type": "stream",
       "stream": "stdout",
       "text": [
        "SELECT Batting.*, sub.schoolID FROM Batting \n",
        "INNER JOIN (SELECT DISTINCT playerID, schoolID FROM CollegePlaying \n",
        "WHERE CollegePlaying.schoolID = \"alabama\" \n",
        "OR CollegePlaying.schoolID = \"auburn\" \n",
        "OR CollegePlaying.schoolID = \"arkansas\" \n",
        "OR CollegePlaying.schoolID = \"lsu\" \n",
        "OR CollegePlaying.schoolID = \"missst\" \n",
        "OR CollegePlaying.schoolID = \"olemiss\" \n",
        "OR CollegePlaying.schoolID = \"texasam\" \n",
        ") sub \n",
        "ON Batting.playerID = sub.playerID\n"
       ]
      }
     ],
     "prompt_number": 3
    },
    {
     "cell_type": "code",
     "collapsed": false,
     "input": [
      "# Perform Querry for batting\n",
      "batting = pd.read_sql(cmd_bat, cnx)\n",
      "pitching = pd.read_sql(cmd_pitch, cnx)"
     ],
     "language": "python",
     "metadata": {},
     "outputs": [],
     "prompt_number": 118
    },
    {
     "cell_type": "code",
     "collapsed": false,
     "input": [
      "# Correct Datatypes / fill in missing values with zero\n",
      "batting.IBB.replace('', 0, inplace=True)\n",
      "batting.HBP.replace('', 0, inplace=True)\n",
      "batting.SH.replace('', 0, inplace=True)\n",
      "batting.SF.replace('', 0, inplace=True)\n",
      "batting.GIDP.replace('', 0, inplace=True)\n",
      "\n",
      "batting.IBB = batting.IBB.astype(int)\n",
      "batting.HBP = batting.HBP.astype(int)\n",
      "batting.SH = batting.SH.astype(int)\n",
      "batting.SF = batting.SF.astype(int)\n",
      "batting.GIDP = batting.GIDP.astype(int)\n",
      "\n",
      "print batting.info()"
     ],
     "language": "python",
     "metadata": {},
     "outputs": [
      {
       "output_type": "stream",
       "stream": "stdout",
       "text": [
        "<class 'pandas.core.frame.DataFrame'>\n",
        "RangeIndex: 2008 entries, 0 to 2007\n",
        "Data columns (total 23 columns):\n",
        "playerID    2008 non-null object\n",
        "yearID      2008 non-null int64\n",
        "stint       2008 non-null int64\n",
        "teamID      2008 non-null object\n",
        "lgID        2008 non-null object\n",
        "G           2008 non-null int64\n",
        "AB          2008 non-null int64\n",
        "R           2008 non-null int64\n",
        "H           2008 non-null int64\n",
        "2B          2008 non-null int64\n",
        "3B          2008 non-null int64\n",
        "HR          2008 non-null int64\n",
        "RBI         2008 non-null int64\n",
        "SB          2008 non-null int64\n",
        "CS          2008 non-null int64\n",
        "BB          2008 non-null int64\n",
        "SO          2008 non-null int64\n",
        "IBB         2008 non-null int64\n",
        "HBP         2008 non-null int64\n",
        "SH          2008 non-null int64\n",
        "SF          2008 non-null int64\n",
        "GIDP        2008 non-null int64\n",
        "schoolID    2008 non-null object\n",
        "dtypes: int64(19), object(4)\n",
        "memory usage: 360.9+ KB\n",
        "None\n"
       ]
      }
     ],
     "prompt_number": 119
    },
    {
     "cell_type": "code",
     "collapsed": false,
     "input": [
      "# School Stats\n",
      "school = batting.groupby('schoolID').sum()\n",
      "\n",
      "school.to_csv('school_stats.csv')\n",
      "batting.to_csv('sec_west_batting.csv', index=False)\n"
     ],
     "language": "python",
     "metadata": {},
     "outputs": [],
     "prompt_number": 124
    }
   ],
   "metadata": {}
  }
 ]
}